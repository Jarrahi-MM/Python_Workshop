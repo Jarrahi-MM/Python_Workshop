{
 "cells": [
  {
   "cell_type": "markdown",
   "id": "bb3fcff8",
   "metadata": {},
   "source": [
    "<div style=\"direction:rtl;line-height:300%;\"><font face=\"XB Zar\" size=5>\n",
    "<div style=\"direction:rtl;line-height:300%;\"><font face=\"XB Zar\" size=5>\n",
    "<div align=center>\n",
    "<font face=\"IranNastaliq\" size=30>\n",
    "<p></p>\n",
    "به نام خدا\n",
    "</font>\n",
    "<br>\n",
    "<font color=#FF7500>\n",
    "دانشگاه صنعتی شریف - دانشکده مدیریت و اقتصاد شریف\n",
    "</font>\n",
    "<br>\n",
    "<font color=blue>\n",
    "اقتصاد سنجی ۱\n",
    "</font>\n",
    "<br>\n",
    "ترم پاییز سال تحصیلی ۱۴۰۳-۱۴۰۲\n",
    "<br>\n",
    "دکتر کوثر یوسفی\n",
    "</div>\n",
    "<hr/>\n",
    "<font color=red size=6>\n",
    "<p></p>\n",
    "\n",
    "<div align=center>بخش ششم: مقدمه‌ای بر کرال کردن دادگان</div>\n",
    "</font>\n",
    "<div align=center>\n",
    "نگین جعفری، محمدمهدی جراحی</div>\n",
    "<hr>\n",
    "</font></div>\n",
    "\n",
    "\n",
    "<style type=\"text/css\" scoped>\n",
    "p{\n",
    "border: 1px solid #a2a9b1;background-color: #f8f9fa;display: inline-block;\n",
    "};\n",
    "</style>"
   ]
  },
  {
   "cell_type": "code",
   "execution_count": 1,
   "id": "initial_id",
   "metadata": {
    "ExecuteTime": {
     "end_time": "2023-09-25T17:46:10.269140Z",
     "start_time": "2023-09-25T17:46:10.243677Z"
    }
   },
   "outputs": [],
   "source": [
    "import pandas as pd\n",
    "import requests\n",
    "import tqdm\n",
    "import os"
   ]
  },
  {
   "cell_type": "markdown",
   "id": "da4cf9ee",
   "metadata": {},
   "source": [
    "### Crawl 1385 jamiat tafsili 1 Excels"
   ]
  },
  {
   "cell_type": "code",
   "execution_count": 2,
   "id": "a4c6eb7a",
   "metadata": {},
   "outputs": [
    {
     "name": "stderr",
     "output_type": "stream",
     "text": [
      "100%|████████████████████████████████████████| 30/30 [00:00<00:00, 14279.29it/s]\n"
     ]
    }
   ],
   "source": [
    "for i in tqdm.tqdm(range(30)):\n",
    "    file_name = f'./1385-jamiat-tafsili-1/{str(i).zfill(2)}.xls'\n",
    "    if os.path.exists(file_name):\n",
    "        continue\n",
    "    x = requests.get(\n",
    "        f'https://www.amar.org.ir/Portals/0/census/1385/results/tables/jamiat/tafsili/1/os{str(i).zfill(2)}.xls')\n",
    "    with open(file_name, \"wb\") as f:\n",
    "        f.write(x.content)"
   ]
  },
  {
   "cell_type": "code",
   "execution_count": 3,
   "id": "59986c30",
   "metadata": {},
   "outputs": [],
   "source": [
    "def clean_unwanted_characters(cell):\n",
    "    if not isinstance(cell, str):\n",
    "        return cell\n",
    "    cell = cell.replace('­', '').replace('‏', '‌')\n",
    "    cell = cell.replace('ي', 'ی').replace('ئ', 'ی').replace('ى', 'ی').replace('أ', 'ا').replace('ك', 'ک')\n",
    "    cell = cell.replace('\\u200c', ' ')\n",
    "    cell = cell.replace('\\n', '')\n",
    "    return cell.strip()"
   ]
  },
  {
   "cell_type": "code",
   "execution_count": 4,
   "id": "03cf034d",
   "metadata": {},
   "outputs": [
    {
     "name": "stderr",
     "output_type": "stream",
     "text": [
      "100%|███████████████████████████████████████████| 30/30 [00:02<00:00, 12.74it/s]\n"
     ]
    }
   ],
   "source": [
    "sheets = []\n",
    "for i in tqdm.tqdm(range(30)):\n",
    "    file_name = f'./1385-jamiat-tafsili-1/{str(i).zfill(2)}.xls'\n",
    "    xl = pd.ExcelFile(file_name)\n",
    "\n",
    "    for sheet_name in xl.sheet_names[1:]:\n",
    "        df = xl.parse(sheet_name)\n",
    "        sheet_name = clean_unwanted_characters(sheet_name)\n",
    "\n",
    "        df = df.iloc[4:, :4].set_index(df.columns[0])\n",
    "        if df.shape[0] != 123:\n",
    "            print('Error', i, sheet_name)\n",
    "        df = df.T\n",
    "        df.insert(loc=0, column='شهرستان', value=[sheet_name, sheet_name, sheet_name])\n",
    "        df.insert(loc=1, column='جنسیت', value=['جمع', 'مرد', 'زن'])\n",
    "\n",
    "        sheets.append((sheet_name, df))\n",
    "\n",
    "result = pd.concat([s[1] for s in sheets])"
   ]
  },
  {
   "cell_type": "code",
   "execution_count": 5,
   "id": "ac16856d",
   "metadata": {},
   "outputs": [],
   "source": [
    "result.rename(columns=clean_unwanted_characters, inplace=True)"
   ]
  },
  {
   "cell_type": "code",
   "execution_count": 6,
   "id": "f73022e3",
   "metadata": {},
   "outputs": [],
   "source": [
    "result.to_excel('./1385-jamiat.xlsx', index=False)"
   ]
  },
  {
   "cell_type": "code",
   "execution_count": null,
   "id": "f3744d3b",
   "metadata": {},
   "outputs": [],
   "source": []
  }
 ],
 "metadata": {
  "kernelspec": {
   "display_name": "Python 3 (ipykernel)",
   "language": "python",
   "name": "python3"
  },
  "language_info": {
   "codemirror_mode": {
    "name": "ipython",
    "version": 3
   },
   "file_extension": ".py",
   "mimetype": "text/x-python",
   "name": "python",
   "nbconvert_exporter": "python",
   "pygments_lexer": "ipython3",
   "version": "3.11.5"
  }
 },
 "nbformat": 4,
 "nbformat_minor": 5
}
