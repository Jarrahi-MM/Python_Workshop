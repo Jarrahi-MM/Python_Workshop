{
 "cells": [
  {
   "cell_type": "code",
   "execution_count": 1,
   "id": "bb850421-2a5d-4bd9-b93b-2669b7612893",
   "metadata": {},
   "outputs": [],
   "source": [
    "%matplotlib inline\n",
    "\n",
    "import matplotlib.pyplot as plt\n",
    "import seaborn as sns\n",
    "import numpy as np\n",
    "import pandas as pd\n",
    "import os \n",
    "\n",
    "plt.style.use('fivethirtyeight')\n",
    "sns.set_context(\"notebook\")"
   ]
  },
  {
   "cell_type": "code",
   "execution_count": 2,
   "id": "0538ddec-e0b9-46f3-8920-91ff91d2ed3a",
   "metadata": {},
   "outputs": [
    {
     "data": {
      "text/plain": [
       "'/Users/jarrahi_mm/Desktop/proj1'"
      ]
     },
     "execution_count": 2,
     "metadata": {},
     "output_type": "execute_result"
    }
   ],
   "source": [
    "os.getcwd()\n",
    "# برای اطمینان از اینکه روی سیستم خودتان اجرا می‌کنید!"
   ]
  },
  {
   "cell_type": "code",
   "execution_count": 3,
   "id": "c00cc3a7-3eb2-4b40-b81f-b2a06e622477",
   "metadata": {},
   "outputs": [
    {
     "data": {
      "text/html": [
       "<div>\n",
       "<style scoped>\n",
       "    .dataframe tbody tr th:only-of-type {\n",
       "        vertical-align: middle;\n",
       "    }\n",
       "\n",
       "    .dataframe tbody tr th {\n",
       "        vertical-align: top;\n",
       "    }\n",
       "\n",
       "    .dataframe thead th {\n",
       "        text-align: right;\n",
       "    }\n",
       "</style>\n",
       "<table border=\"1\" class=\"dataframe\">\n",
       "  <thead>\n",
       "    <tr style=\"text-align: right;\">\n",
       "      <th></th>\n",
       "      <th>Name</th>\n",
       "      <th>Id</th>\n",
       "    </tr>\n",
       "  </thead>\n",
       "  <tbody>\n",
       "    <tr>\n",
       "      <th>0</th>\n",
       "      <td>محمدمهدی جراحی</td>\n",
       "      <td>401203658</td>\n",
       "    </tr>\n",
       "    <tr>\n",
       "      <th>1</th>\n",
       "      <td>Ali?</td>\n",
       "      <td>402000001</td>\n",
       "    </tr>\n",
       "  </tbody>\n",
       "</table>\n",
       "</div>"
      ],
      "text/plain": [
       "             Name         Id\n",
       "0  محمدمهدی جراحی  401203658\n",
       "1            Ali?  402000001"
      ]
     },
     "execution_count": 3,
     "metadata": {},
     "output_type": "execute_result"
    }
   ],
   "source": [
    "YOUR_NAME, YOUR_STUDENT_ID = 'Ali?', '402000001'\n",
    "pd.DataFrame({'Name': ['محمدمهدی جراحی', YOUR_NAME], 'Id': ['401203658', YOUR_STUDENT_ID]})"
   ]
  },
  {
   "cell_type": "code",
   "execution_count": 4,
   "id": "97d158a1-8327-4696-b8ad-6930731b879d",
   "metadata": {},
   "outputs": [
    {
     "data": {
      "image/png": "[encoded data removed]",
      "text/plain": [
       "<Figure size 640x480 with 1 Axes>"
      ]
     },
     "metadata": {},
     "output_type": "display_data"
    }
   ],
   "source": [
    "x = np.array([t + np.random.random() for t in np.linspace(1, 5, 20)])\n",
    "y = x** (int(YOUR_STUDENT_ID) % 8 + 1)\n",
    "plt.scatter(x, y);"
   ]
  },
  {
   "cell_type": "code",
   "execution_count": null,
   "id": "e737805c-c078-4737-b8a1-b8d6fd3d6cd8",
   "metadata": {},
   "outputs": [],
   "source": []
  }
 ],
 "metadata": {
  "kernelspec": {
   "display_name": "Python 3 (ipykernel)",
   "language": "python",
   "name": "python3"
  },
  "language_info": {
   "codemirror_mode": {
    "name": "ipython",
    "version": 3
   },
   "file_extension": ".py",
   "mimetype": "text/x-python",
   "name": "python",
   "nbconvert_exporter": "python",
   "pygments_lexer": "ipython3",
   "version": "3.11.5"
  }
 },
 "nbformat": 4,
 "nbformat_minor": 5
}
